{
 "cells": [
  {
   "cell_type": "code",
   "execution_count": 27,
   "metadata": {},
   "outputs": [
    {
     "ename": "ModuleNotFoundError",
     "evalue": "No module named 'tactile_learning'",
     "output_type": "error",
     "traceback": [
      "\u001b[0;31m---------------------------------------------------------------------------\u001b[0m",
      "\u001b[0;31mModuleNotFoundError\u001b[0m                       Traceback (most recent call last)",
      "Cell \u001b[0;32mIn[27], line 18\u001b[0m\n\u001b[1;32m     15\u001b[0m \u001b[39mfrom\u001b[39;00m \u001b[39mtorchvision\u001b[39;00m \u001b[39mimport\u001b[39;00m transforms \u001b[39mas\u001b[39;00m T\n\u001b[1;32m     16\u001b[0m \u001b[39m# from agent.encoder import Encoder\u001b[39;00m\n\u001b[0;32m---> 18\u001b[0m \u001b[39mfrom\u001b[39;00m \u001b[39mtactile_learning\u001b[39;00m\u001b[39m.\u001b[39;00m\u001b[39mmodels\u001b[39;00m \u001b[39mimport\u001b[39;00m \u001b[39m*\u001b[39m\n\u001b[1;32m     19\u001b[0m \u001b[39mfrom\u001b[39;00m \u001b[39mtactile_learning\u001b[39;00m\u001b[39m.\u001b[39;00m\u001b[39mutils\u001b[39;00m \u001b[39mimport\u001b[39;00m \u001b[39m*\u001b[39m\n\u001b[1;32m     20\u001b[0m \u001b[39mfrom\u001b[39;00m \u001b[39mtactile_learning\u001b[39;00m\u001b[39m.\u001b[39;00m\u001b[39mtactile_data\u001b[39;00m \u001b[39mimport\u001b[39;00m \u001b[39m*\u001b[39m\n",
      "\u001b[0;31mModuleNotFoundError\u001b[0m: No module named 'tactile_learning'"
     ]
    }
   ],
   "source": [
    "import datetime\n",
    "import glob\n",
    "import os\n",
    "import hydra\n",
    "import numpy as np\n",
    "import torch\n",
    "import torch.nn as nn\n",
    "import torch.nn.functional as F\n",
    "import sys\n",
    "\n",
    "from pathlib import Path\n",
    "from PIL import Image\n",
    "\n",
    "from torchvision.utils import save_image\n",
    "from torchvision import transforms as T\n",
    "# from agent.encoder import Encoder\n",
    "\n",
    "from tactile_learning.models import *\n",
    "from tactile_learning.utils import *\n",
    "from tactile_learning.tactile_data import *\n",
    "\n"
   ]
  },
  {
   "cell_type": "code",
   "execution_count": null,
   "metadata": {},
   "outputs": [],
   "source": []
  },
  {
   "cell_type": "code",
   "execution_count": null,
   "metadata": {},
   "outputs": [],
   "source": [
    "\n",
    "\n"
   ]
  },
  {
   "cell_type": "code",
   "execution_count": null,
   "metadata": {},
   "outputs": [],
   "source": []
  },
  {
   "cell_type": "code",
   "execution_count": 28,
   "metadata": {},
   "outputs": [
    {
     "ename": "NameError",
     "evalue": "name 'load_data' is not defined",
     "output_type": "error",
     "traceback": [
      "\u001b[0;31m---------------------------------------------------------------------------\u001b[0m",
      "\u001b[0;31mNameError\u001b[0m                                 Traceback (most recent call last)",
      "Cell \u001b[0;32mIn[28], line 3\u001b[0m\n\u001b[1;32m      1\u001b[0m data_path \u001b[39m=\u001b[39m \u001b[39m'\u001b[39m\u001b[39m/data/sponge_picking_final_3\u001b[39m\u001b[39m'\u001b[39m\n\u001b[1;32m      2\u001b[0m roots \u001b[39m=\u001b[39m \u001b[39msorted\u001b[39m(glob\u001b[39m.\u001b[39mglob(\u001b[39mf\u001b[39m\u001b[39m'\u001b[39m\u001b[39m{\u001b[39;00mdata_path\u001b[39m}\u001b[39;00m\u001b[39m/demonstration_*\u001b[39m\u001b[39m'\u001b[39m))\n\u001b[0;32m----> 3\u001b[0m data \u001b[39m=\u001b[39m load_data(\n\u001b[1;32m      4\u001b[0m     roots \u001b[39m=\u001b[39m roots, \n\u001b[1;32m      5\u001b[0m     demos_to_use\u001b[39m=\u001b[39m[\u001b[39m1\u001b[39m,\u001b[39m3\u001b[39m]\n\u001b[1;32m      6\u001b[0m )\n\u001b[1;32m      8\u001b[0m \u001b[39mdef\u001b[39;00m \u001b[39mviewed_crop_transform\u001b[39m(image):\n\u001b[1;32m      9\u001b[0m     \u001b[39mreturn\u001b[39;00m crop_transform(image, camera_view\u001b[39m=\u001b[39m\u001b[39m0\u001b[39m)\n",
      "\u001b[0;31mNameError\u001b[0m: name 'load_data' is not defined"
     ]
    }
   ],
   "source": [
    "data_path = '/data/sponge_picking_final_3'\n",
    "roots = sorted(glob.glob(f'{data_path}/demonstration_*'))\n",
    "data = load_data(\n",
    "    roots = roots, \n",
    "    demos_to_use=[1,3]\n",
    ")\n",
    "\n",
    "def viewed_crop_transform(image):\n",
    "    return crop_transform(image, camera_view=0)\n",
    "\n",
    "\n",
    "demo_steps = []\n",
    "i = 0\n",
    "old_demo_id = -1\n",
    "while i <= len(data['image']['indices'])-1:\n",
    "    demo_id, _ = data['image']['indices'][i]\n",
    "    if old_demo_id != demo_id:\n",
    "        demo_steps.append(i)\n",
    "    i += 1\n",
    "    old_demo_id = demo_id\n",
    "\n",
    "demo_id, image_id = data['image']['indices'][demo_steps[0]]\n",
    "print('demo_id: {}, image_id: {}'.format(demo_id, image_id))\n",
    "orig_img= load_dataset_image(\n",
    "    data_path = data_path,\n",
    "    demo_id = demo_id,\n",
    "    image_id = image_id,\n",
    "    view_num = 1,\n",
    "    transform = T.Compose([\n",
    "        T.Resize(480),\n",
    "        T.ToTensor(),\n",
    "        # T.Normalize(VISION_IMAGE_MEANS, VISION_IMAGE_STDS),\n",
    "    ]),\n",
    ")\n",
    "img = load_dataset_image(\n",
    "    data_path = data_path,\n",
    "    demo_id = demo_id,\n",
    "    image_id = image_id,\n",
    "    view_num = 1,\n",
    "    transform = T.Compose([\n",
    "        T.Resize((480,640)),\n",
    "        T.Lambda(viewed_crop_transform),\n",
    "        T.Resize(480),\n",
    "        T.ToTensor(),\n",
    "        # T.Normalize(VISION_IMAGE_MEANS, VISION_IMAGE_STDS),\n",
    "    ]),\n",
    ")\n"
   ]
  },
  {
   "cell_type": "code",
   "execution_count": null,
   "metadata": {},
   "outputs": [],
   "source": []
  },
  {
   "cell_type": "code",
   "execution_count": null,
   "metadata": {},
   "outputs": [],
   "source": [
    "fig, axs = plt.subplots(figsize=(15,15), nrows=2, ncols=2)\n",
    "\n",
    "axs[0][0].set_title('Actual Image')\n",
    "axs[0][0].imshow(np.transpose(orig_img, (1,2,0)))\n",
    "axs[0][0].set_xlabel('Cropped Train Image')\n",
    "\n",
    "axs[1][0].set_title('Cropped Image')\n",
    "axs[1][0].imshow(np.transpose(img, (1,2,0)))\n",
    "axs[1][0].set_xlabel('Cropped Test Image')\n"
   ]
  },
  {
   "cell_type": "code",
   "execution_count": null,
   "metadata": {},
   "outputs": [],
   "source": [
    "\n"
   ]
  },
  {
   "cell_type": "code",
   "execution_count": null,
   "metadata": {},
   "outputs": [],
   "source": []
  },
  {
   "cell_type": "code",
   "execution_count": null,
   "metadata": {},
   "outputs": [],
   "source": []
  },
  {
   "cell_type": "code",
   "execution_count": null,
   "metadata": {},
   "outputs": [],
   "source": []
  },
  {
   "cell_type": "code",
   "execution_count": null,
   "metadata": {},
   "outputs": [],
   "source": []
  },
  {
   "cell_type": "code",
   "execution_count": null,
   "metadata": {},
   "outputs": [],
   "source": []
  },
  {
   "cell_type": "code",
   "execution_count": null,
   "metadata": {},
   "outputs": [],
   "source": []
  },
  {
   "cell_type": "code",
   "execution_count": null,
   "metadata": {},
   "outputs": [],
   "source": []
  }
 ],
 "metadata": {
  "kernelspec": {
   "display_name": "tactile_learning",
   "language": "python",
   "name": "python3"
  },
  "language_info": {
   "codemirror_mode": {
    "name": "ipython",
    "version": 3
   },
   "file_extension": ".py",
   "mimetype": "text/x-python",
   "name": "python",
   "nbconvert_exporter": "python",
   "pygments_lexer": "ipython3",
   "version": "3.9.18"
  },
  "orig_nbformat": 4
 },
 "nbformat": 4,
 "nbformat_minor": 2
}
